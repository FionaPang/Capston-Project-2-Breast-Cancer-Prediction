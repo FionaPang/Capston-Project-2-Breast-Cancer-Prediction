{
 "cells": [
  {
   "cell_type": "markdown",
   "metadata": {},
   "source": [
    "## 1. Problem Statement\n"
   ]
  },
  {
   "cell_type": "markdown",
   "metadata": {},
   "source": [
    "Predict and classify the breast tumor to benign or malignant through the numeric features provided by digitized image of a fine needle aspirate (FNA).\n"
   ]
  },
  {
   "cell_type": "markdown",
   "metadata": {},
   "source": [
    "## 2. Context"
   ]
  },
  {
   "cell_type": "markdown",
   "metadata": {},
   "source": [
    "Digitized images of fine needle aspirate (FNA) present many features to describe the characteristics of cell nuclei. Features from FNA could be used to classify and predict if the tumor is benign or malignant, and the possibility of breast cancer development. \n"
   ]
  },
  {
   "cell_type": "markdown",
   "metadata": {},
   "source": [
    "## 3. Criteria of Success"
   ]
  },
  {
   "cell_type": "markdown",
   "metadata": {},
   "source": [
    "Datasets of numeric features of cell nucleus are extracted from FNA images. Develop a machine learning model to classify if the tumor is benign or malignant based on characteristics of cell nuclus from FNA imagies.\n"
   ]
  },
  {
   "cell_type": "markdown",
   "metadata": {},
   "source": [
    "## 4. Scope of solution"
   ]
  },
  {
   "cell_type": "markdown",
   "metadata": {},
   "source": [
    "Features from FNA images will be classified based on breast cancer cell nuclus characteristics via a machine learning model. The classification can be used to identify if the breast cancer present based on the cell characteristics measured by FNA imgages.\n"
   ]
  },
  {
   "cell_type": "markdown",
   "metadata": {},
   "source": [
    "## 5. Constrain"
   ]
  },
  {
   "cell_type": "markdown",
   "metadata": {},
   "source": [
    "There could be some missing values in the data. It could be a challenge to avoid false positives or false negatives, and more data of other diagnostic methods will be needed to confirm if an individual patient is developing breast cancer. "
   ]
  },
  {
   "cell_type": "markdown",
   "metadata": {},
   "source": [
    "## 6. Stakeholder"
   ]
  },
  {
   "cell_type": "markdown",
   "metadata": {},
   "source": [
    "* Cancer researchers\n",
    "* Cancer physicians\n",
    "* Patient who has access to his/her FNA image data\n"
   ]
  },
  {
   "cell_type": "markdown",
   "metadata": {},
   "source": [
    "## 7. Data Sources"
   ]
  },
  {
   "cell_type": "markdown",
   "metadata": {},
   "source": [
    "* UW CS ftp server: ftp ftp.cs.wisc.edu, cd math-prog/cpo-dataset/machine-learn/WDBC/\n",
    "* UCI Machine Learning Repository: https://archive.ics.uci.edu/ml/datasets/Breast+Cancer+Wisconsin+%28Diagnostic%29\n",
    "*https://www.kaggle.com/uciml/breast-cancer-wisconsin-data \n"
   ]
  },
  {
   "cell_type": "code",
   "execution_count": null,
   "metadata": {},
   "outputs": [],
   "source": []
  }
 ],
 "metadata": {
  "kernelspec": {
   "display_name": "Python 3 (ipykernel)",
   "language": "python",
   "name": "python3"
  },
  "language_info": {
   "codemirror_mode": {
    "name": "ipython",
    "version": 3
   },
   "file_extension": ".py",
   "mimetype": "text/x-python",
   "name": "python",
   "nbconvert_exporter": "python",
   "pygments_lexer": "ipython3",
   "version": "3.9.7"
  }
 },
 "nbformat": 4,
 "nbformat_minor": 4
}
